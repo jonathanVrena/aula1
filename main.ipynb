{
 "cells": [
  {
   "cell_type": "code",
   "execution_count": null,
   "metadata": {},
   "outputs": [
    {
     "name": "stdout",
     "output_type": "stream",
     "text": [
      "Olá mundo!\n",
      "jonathan vrena\n"
     ]
    }
   ],
   "source": [
    "print(\"Olá mundo!\")\n",
    "print(\"jonathan vrena\")\n",
    "\n",
    "# x, y, z\n",
    "x = 4\n",
    "y = 2\n",
    "z = 10\n",
    "\n",
    "#-----------------\n",
    "print(x + y) # soma\n",
    "print(z - x) #subtração\n",
    "print(y * y) #multiplicação\n",
    "print(z/x) #\n"
   ]
  }
 ],
 "metadata": {
  "kernelspec": {
   "display_name": "base",
   "language": "python",
   "name": "python3"
  },
  "language_info": {
   "codemirror_mode": {
    "name": "ipython",
    "version": 3
   },
   "file_extension": ".py",
   "mimetype": "text/x-python",
   "name": "python",
   "nbconvert_exporter": "python",
   "pygments_lexer": "ipython3",
   "version": "3.12.7"
  }
 },
 "nbformat": 4,
 "nbformat_minor": 2
}
